{
  "nbformat": 4,
  "nbformat_minor": 0,
  "metadata": {
    "colab": {
      "name": "lab1 collaborative filtering methods.ipynb",
      "provenance": [],
      "collapsed_sections": [],
      "authorship_tag": "ABX9TyNnKFk7kEknpVStm9cH7aIR",
      "include_colab_link": true
    },
    "kernelspec": {
      "name": "python3",
      "display_name": "Python 3"
    },
    "language_info": {
      "name": "python"
    }
  },
  "cells": [
    {
      "cell_type": "markdown",
      "metadata": {
        "id": "view-in-github",
        "colab_type": "text"
      },
      "source": [
        "<a href=\"https://colab.research.google.com/github/hkbu-kennycheng/comp7240/blob/main/lab1_collaborative_filtering_methods.ipynb\" target=\"_parent\"><img src=\"https://colab.research.google.com/assets/colab-badge.svg\" alt=\"Open In Colab\"/></a>"
      ]
    },
    {
      "cell_type": "markdown",
      "metadata": {
        "id": "W5tCVmgyTBuZ"
      },
      "source": [
        "# Lab1: Collaborative filtering methods"
      ]
    },
    {
      "cell_type": "code",
      "metadata": {
        "colab": {
          "base_uri": "https://localhost:8080/"
        },
        "id": "uTQbwGI6Xgc5",
        "outputId": "1b5a4968-e9cf-40f7-abe6-993cfbedae4f"
      },
      "source": [
        "!pip install surprise"
      ],
      "execution_count": null,
      "outputs": [
        {
          "output_type": "stream",
          "text": [
            "Collecting surprise\n",
            "  Downloading surprise-0.1-py2.py3-none-any.whl (1.8 kB)\n",
            "Collecting scikit-surprise\n",
            "  Downloading scikit-surprise-1.1.1.tar.gz (11.8 MB)\n",
            "\u001b[K     |████████████████████████████████| 11.8 MB 51 kB/s \n",
            "\u001b[?25hRequirement already satisfied: joblib>=0.11 in /usr/local/lib/python3.7/dist-packages (from scikit-surprise->surprise) (1.0.1)\n",
            "Requirement already satisfied: numpy>=1.11.2 in /usr/local/lib/python3.7/dist-packages (from scikit-surprise->surprise) (1.19.5)\n",
            "Requirement already satisfied: scipy>=1.0.0 in /usr/local/lib/python3.7/dist-packages (from scikit-surprise->surprise) (1.4.1)\n",
            "Requirement already satisfied: six>=1.10.0 in /usr/local/lib/python3.7/dist-packages (from scikit-surprise->surprise) (1.15.0)\n",
            "Building wheels for collected packages: scikit-surprise\n",
            "  Building wheel for scikit-surprise (setup.py) ... \u001b[?25l\u001b[?25hdone\n",
            "  Created wheel for scikit-surprise: filename=scikit_surprise-1.1.1-cp37-cp37m-linux_x86_64.whl size=1619435 sha256=48f17fdf1544b87086da74a45f5b056668bb6b67dc13e64cce094d0b54faa508\n",
            "  Stored in directory: /root/.cache/pip/wheels/76/44/74/b498c42be47b2406bd27994e16c5188e337c657025ab400c1c\n",
            "Successfully built scikit-surprise\n",
            "Installing collected packages: scikit-surprise, surprise\n",
            "Successfully installed scikit-surprise-1.1.1 surprise-0.1\n"
          ],
          "name": "stdout"
        }
      ]
    },
    {
      "cell_type": "markdown",
      "metadata": {
        "id": "1co-vD02V3zD"
      },
      "source": [
        "## Rating matrix\n",
        "\n",
        "|Rating|item 1|item 2|item 3|item 4|item 5| ... |\n",
        "|------|------|------|------|------|------|-----|\n",
        "|user 1| 5    |      | 4    | 1    |      |     |\n",
        "|user 2|      | 3    |      | 3    |      |     |\n",
        "|user 3|      | 4    | 4    | 1    |      |     |\n",
        "|user 4| 4    | 4    | 5    |      |      |     |\n",
        "|user 5| 2    | 4    |      | 5    | 2    |     |\n",
        "|...   |      |      |      |      |      |     |"
      ]
    },
    {
      "cell_type": "markdown",
      "metadata": {
        "id": "AJQdA25XXWGt"
      },
      "source": [
        "## Dataset: MovieLens 100K\n"
      ]
    },
    {
      "cell_type": "code",
      "metadata": {
        "id": "t94mEA2VXY2v",
        "colab": {
          "base_uri": "https://localhost:8080/"
        },
        "outputId": "88c2de14-b8f5-4575-8063-631e8c0dd6ba"
      },
      "source": [
        "from surprise import Dataset\n",
        "from surprise import accuracy\n",
        "from surprise.model_selection import train_test_split\n",
        "\n",
        "# Load the movielens-100k dataset\n",
        "data = Dataset.load_builtin('ml-100k', prompt=False)\n",
        "\n",
        "# sample random trainset and testset\n",
        "# test set is made of 25% of the ratings.\n",
        "trainset, testset = train_test_split(data, test_size=.25)"
      ],
      "execution_count": null,
      "outputs": [
        {
          "output_type": "stream",
          "text": [
            "Trying to download dataset from http://files.grouplens.org/datasets/movielens/ml-100k.zip...\n",
            "Done! Dataset ml-100k has been saved to /root/.surprise_data/ml-100k\n"
          ],
          "name": "stdout"
        }
      ]
    },
    {
      "cell_type": "markdown",
      "metadata": {
        "id": "LqcyVOFbQsAS"
      },
      "source": [
        "# User-based vs item-based Collaborative Filtering\n",
        "\n",
        "User-user collaborative filtering is a technique to find similar users based on the ratings they give using a rating matrix."
      ]
    },
    {
      "cell_type": "code",
      "metadata": {
        "id": "memvcHMJQq-9"
      },
      "source": [
        "# "
      ],
      "execution_count": null,
      "outputs": []
    },
    {
      "cell_type": "markdown",
      "metadata": {
        "id": "OqsH_LwJZpxR"
      },
      "source": [
        "## "
      ]
    },
    {
      "cell_type": "markdown",
      "metadata": {
        "id": "1vPZVHHdO9F-"
      },
      "source": [
        "### Item based method using Centered K-Nearest Neighbours (k-NN)"
      ]
    },
    {
      "cell_type": "code",
      "metadata": {
        "id": "BO_WOqvmZpVY",
        "colab": {
          "base_uri": "https://localhost:8080/"
        },
        "outputId": "332be2b3-7d5f-4489-b817-84579bdaa328"
      },
      "source": [
        "from surprise import KNNWithMeans\n",
        "from surprise.model_selection import cross_validate\n",
        "\n",
        "# To use item-based cosine similarity\n",
        "algo = KNNWithMeans(sim_options={\n",
        "  \"name\": \"cosine\",\n",
        "  \"user_based\": False,  # Compute  similarities between items\n",
        "})\n",
        "\n",
        "# Run 5-fold cross-validation and print results\n",
        "cross_validate(algo, data, measures=['RMSE', 'MAE'], cv=5, verbose=True)"
      ],
      "execution_count": null,
      "outputs": [
        {
          "output_type": "stream",
          "text": [
            "Computing the cosine similarity matrix...\n",
            "Done computing similarity matrix.\n",
            "Computing the cosine similarity matrix...\n",
            "Done computing similarity matrix.\n",
            "Computing the cosine similarity matrix...\n",
            "Done computing similarity matrix.\n",
            "Computing the cosine similarity matrix...\n",
            "Done computing similarity matrix.\n",
            "Computing the cosine similarity matrix...\n",
            "Done computing similarity matrix.\n",
            "Evaluating RMSE, MAE of algorithm KNNWithMeans on 5 split(s).\n",
            "\n",
            "                  Fold 1  Fold 2  Fold 3  Fold 4  Fold 5  Mean    Std     \n",
            "RMSE (testset)    0.9406  0.9382  0.9417  0.9480  0.9427  0.9422  0.0033  \n",
            "MAE (testset)     0.7381  0.7359  0.7419  0.7449  0.7425  0.7407  0.0032  \n",
            "Fit time          1.61    1.59    1.64    1.57    1.60    1.60    0.02    \n",
            "Test time         4.38    4.30    4.40    4.41    4.31    4.36    0.05    \n"
          ],
          "name": "stdout"
        },
        {
          "output_type": "execute_result",
          "data": {
            "text/plain": [
              "{'fit_time': (1.6057422161102295,\n",
              "  1.5907692909240723,\n",
              "  1.6442632675170898,\n",
              "  1.5733733177185059,\n",
              "  1.5957517623901367),\n",
              " 'test_mae': array([0.73810342, 0.73591826, 0.74188076, 0.7449242 , 0.74252372]),\n",
              " 'test_rmse': array([0.94056374, 0.93815336, 0.94168466, 0.94799637, 0.94274849]),\n",
              " 'test_time': (4.379783391952515,\n",
              "  4.2970030307769775,\n",
              "  4.397813320159912,\n",
              "  4.412890672683716,\n",
              "  4.313941955566406)}"
            ]
          },
          "metadata": {},
          "execution_count": 6
        }
      ]
    },
    {
      "cell_type": "markdown",
      "metadata": {
        "id": "BQ6DzyWKPBzl"
      },
      "source": [
        "## User based method using Centered K-Nearest Neighbours (k-NN)"
      ]
    },
    {
      "cell_type": "code",
      "metadata": {
        "colab": {
          "base_uri": "https://localhost:8080/"
        },
        "id": "2fePhuJzOmcQ",
        "outputId": "d1c39c40-9f77-46d2-cf6a-f65975f76a15"
      },
      "source": [
        "# To use user-based cosine similarity\n",
        "algo = KNNWithMeans(sim_options={\n",
        "    \"name\": \"cosine\",\n",
        "    \"user_based\": True,  # Compute similarities between users\n",
        "})\n",
        "\n",
        "# Run 5-fold cross-validation and print results\n",
        "cross_validate(algo, data, measures=['RMSE', 'MAE'], cv=5, verbose=True)"
      ],
      "execution_count": null,
      "outputs": [
        {
          "output_type": "stream",
          "text": [
            "Computing the cosine similarity matrix...\n",
            "Done computing similarity matrix.\n",
            "Computing the cosine similarity matrix...\n",
            "Done computing similarity matrix.\n",
            "Computing the cosine similarity matrix...\n",
            "Done computing similarity matrix.\n",
            "Computing the cosine similarity matrix...\n",
            "Done computing similarity matrix.\n",
            "Computing the cosine similarity matrix...\n",
            "Done computing similarity matrix.\n",
            "Evaluating RMSE, MAE of algorithm KNNWithMeans on 5 split(s).\n",
            "\n",
            "                  Fold 1  Fold 2  Fold 3  Fold 4  Fold 5  Mean    Std     \n",
            "RMSE (testset)    0.9497  0.9538  0.9614  0.9548  0.9578  0.9555  0.0039  \n",
            "MAE (testset)     0.7486  0.7524  0.7591  0.7539  0.7572  0.7542  0.0037  \n",
            "Fit time          0.95    0.98    0.96    0.98    0.98    0.97    0.01    \n",
            "Test time         3.95    3.86    3.88    3.91    3.83    3.89    0.04    \n"
          ],
          "name": "stdout"
        },
        {
          "output_type": "execute_result",
          "data": {
            "text/plain": [
              "{'fit_time': (0.9508118629455566,\n",
              "  0.9795711040496826,\n",
              "  0.9599606990814209,\n",
              "  0.9839956760406494,\n",
              "  0.9839878082275391),\n",
              " 'test_mae': array([0.74855623, 0.75238425, 0.75905195, 0.75385061, 0.75720022]),\n",
              " 'test_rmse': array([0.94970363, 0.9537819 , 0.96143863, 0.954805  , 0.95777646]),\n",
              " 'test_time': (3.9457554817199707,\n",
              "  3.8625736236572266,\n",
              "  3.882866382598877,\n",
              "  3.908400774002075,\n",
              "  3.831212043762207)}"
            ]
          },
          "metadata": {},
          "execution_count": 7
        }
      ]
    },
    {
      "cell_type": "markdown",
      "metadata": {
        "id": "R3hX3RMSB_0P"
      },
      "source": [
        "# CoClustering\n"
      ]
    },
    {
      "cell_type": "code",
      "metadata": {
        "id": "Ipg7YpqqCBd1"
      },
      "source": [
        "from surprise import CoClustering\n",
        "\n",
        "algo = CoClustering()\n",
        "\n",
        "# Train the algorithm on the trainset, and predict ratings for the testset\n",
        "algo.fit(trainset)\n",
        "predictions = algo.test(testset)\n",
        "\n",
        "# Then compute RMSE\n",
        "accuracy.rmse(predictions)"
      ],
      "execution_count": null,
      "outputs": []
    },
    {
      "cell_type": "code",
      "metadata": {
        "id": "Y9xLYQUaQOVe"
      },
      "source": [
        ""
      ],
      "execution_count": null,
      "outputs": []
    }
  ]
}