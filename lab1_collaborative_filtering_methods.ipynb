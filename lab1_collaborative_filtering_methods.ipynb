{
  "nbformat": 4,
  "nbformat_minor": 0,
  "metadata": {
    "colab": {
      "name": "lab1 collaborative filtering methods.ipynb",
      "provenance": [],
      "collapsed_sections": [],
      "authorship_tag": "ABX9TyMc68iZ/ZiBAjKYu/nyr1cD",
      "include_colab_link": true
    },
    "kernelspec": {
      "display_name": "Python 3",
      "name": "python3"
    },
    "language_info": {
      "name": "python"
    }
  },
  "cells": [
    {
      "cell_type": "markdown",
      "metadata": {
        "id": "view-in-github",
        "colab_type": "text"
      },
      "source": [
        "<a href=\"https://colab.research.google.com/github/hkbu-kennycheng/comp7240/blob/main/lab1_collaborative_filtering_methods.ipynb\" target=\"_parent\"><img src=\"https://colab.research.google.com/assets/colab-badge.svg\" alt=\"Open In Colab\"/></a>"
      ]
    },
    {
      "cell_type": "markdown",
      "metadata": {
        "id": "W5tCVmgyTBuZ"
      },
      "source": [
        "# Lab1: Collaborative Filtering (CF) methods\n",
        "\n",
        "There are various libraries for doing CF in Python. In this lab, we would like to go through several CF techniques including **user-based method**, **item-based method**, **centered k-NN** and **co-clustering**.\n",
        "\n",
        "Let's install it first by runing `pip install surprise` or `conda install surprise` in the terminal. It will be ready when you see `Successfully installed scikit-surprise-1.1.1 surprise-0.1`.\n"
      ]
    },
    {
      "cell_type": "code",
      "metadata": {
        "colab": {
          "base_uri": "https://localhost:8080/"
        },
        "id": "uTQbwGI6Xgc5",
        "outputId": "9225b15d-9afa-4185-92c6-5e26c42b58b6"
      },
      "source": [
        "!pip install surprise"
      ],
      "execution_count": null,
      "outputs": [
        {
          "output_type": "stream",
          "text": [
            "Collecting surprise\n",
            "  Downloading surprise-0.1-py2.py3-none-any.whl (1.8 kB)\n",
            "Collecting scikit-surprise\n",
            "  Downloading scikit-surprise-1.1.1.tar.gz (11.8 MB)\n",
            "\u001b[K     |████████████████████████████████| 11.8 MB 11.1 MB/s \n",
            "\u001b[?25hRequirement already satisfied: joblib>=0.11 in /usr/local/lib/python3.7/dist-packages (from scikit-surprise->surprise) (1.0.1)\n",
            "Requirement already satisfied: numpy>=1.11.2 in /usr/local/lib/python3.7/dist-packages (from scikit-surprise->surprise) (1.19.5)\n",
            "Requirement already satisfied: scipy>=1.0.0 in /usr/local/lib/python3.7/dist-packages (from scikit-surprise->surprise) (1.4.1)\n",
            "Requirement already satisfied: six>=1.10.0 in /usr/local/lib/python3.7/dist-packages (from scikit-surprise->surprise) (1.15.0)\n",
            "Building wheels for collected packages: scikit-surprise\n",
            "  Building wheel for scikit-surprise (setup.py) ... \u001b[?25l\u001b[?25hdone\n",
            "  Created wheel for scikit-surprise: filename=scikit_surprise-1.1.1-cp37-cp37m-linux_x86_64.whl size=1619397 sha256=63bd38c8efcd65e9dd226b3ecb28a78afc787ebcb10b108087ffaad4e94208e4\n",
            "  Stored in directory: /root/.cache/pip/wheels/76/44/74/b498c42be47b2406bd27994e16c5188e337c657025ab400c1c\n",
            "Successfully built scikit-surprise\n",
            "Installing collected packages: scikit-surprise, surprise\n",
            "Successfully installed scikit-surprise-1.1.1 surprise-0.1\n"
          ],
          "name": "stdout"
        }
      ]
    },
    {
      "cell_type": "markdown",
      "metadata": {
        "id": "AJQdA25XXWGt"
      },
      "source": [
        "## Dataset: MovieLens 100K\n",
        "\n",
        "Before doing experiment, we need a dataset.\n",
        "\n",
        "![](https://url2img-web.herokuapp.com/aHR0cHM6Ly9maWxlcy5ncm91cGxlbnMub3JnL2RhdGFzZXRzL21vdmllbGVucy9tbC0xMDBrLVJFQURNRS50eHQ=)\n",
        "\n",
        "We could simply load the dataset with `surprise.Dataset.load_builtin`. After that, we could split it into training set and testing set by `surprise.model_selection.train_test_split`."
      ]
    },
    {
      "cell_type": "code",
      "metadata": {
        "id": "t94mEA2VXY2v",
        "colab": {
          "base_uri": "https://localhost:8080/"
        },
        "outputId": "78b09db8-5fcd-4108-967d-b6de2940cf4a"
      },
      "source": [
        "from surprise import Dataset\n",
        "from surprise.model_selection import train_test_split\n",
        "\n",
        "# Load the movielens-100k dataset\n",
        "data = Dataset.load_builtin('ml-100k', prompt=False)\n",
        "\n",
        "# sample random trainset and testset\n",
        "# test set is made of 25% of the ratings.\n",
        "trainset, testset = train_test_split(data, test_size=.25)"
      ],
      "execution_count": null,
      "outputs": [
        {
          "output_type": "stream",
          "text": [
            "Trying to download dataset from http://files.grouplens.org/datasets/movielens/ml-100k.zip...\n",
            "Done! Dataset ml-100k has been saved to /root/.surprise_data/ml-100k\n"
          ],
          "name": "stdout"
        }
      ]
    },
    {
      "cell_type": "markdown",
      "metadata": {
        "id": "T34u49LHYrmN"
      },
      "source": [
        "Let's take a look to first 10 records in testing set, in order to get a better understanding of the data.\n",
        "\n",
        "`('11', '100', 4.0)` means user id `11` giving `4.0` rating to moive id `100`.\n"
      ]
    },
    {
      "cell_type": "code",
      "metadata": {
        "colab": {
          "base_uri": "https://localhost:8080/"
        },
        "id": "eU_5j4OtX-kl",
        "outputId": "158b9f2a-f8f1-4251-d7bd-f83aaf462b86"
      },
      "source": [
        "testset[:10]"
      ],
      "execution_count": null,
      "outputs": [
        {
          "output_type": "execute_result",
          "data": {
            "text/plain": [
              "[('11', '100', 4.0),\n",
              " ('255', '443', 1.0),\n",
              " ('343', '297', 5.0),\n",
              " ('846', '1210', 2.0),\n",
              " ('293', '162', 3.0),\n",
              " ('82', '411', 3.0),\n",
              " ('828', '269', 4.0),\n",
              " ('182', '471', 4.0),\n",
              " ('439', '100', 3.0),\n",
              " ('533', '412', 1.0)]"
            ]
          },
          "metadata": {},
          "execution_count": 19
        }
      ]
    },
    {
      "cell_type": "markdown",
      "metadata": {
        "id": "E0Kx25IhcJs1"
      },
      "source": [
        "We could get"
      ]
    },
    {
      "cell_type": "code",
      "metadata": {
        "id": "SYtcZOvlcAV1"
      },
      "source": [
        "trainset.ur[0][:10]"
      ],
      "execution_count": null,
      "outputs": []
    },
    {
      "cell_type": "markdown",
      "metadata": {
        "id": "LqcyVOFbQsAS"
      },
      "source": [
        "## User-based vs item-based\n",
        "\n",
        "\n",
        "**User-based** collaborative filtering is a technique to find similar users based on the ratings they give using a rating matrix.\n",
        "\n",
        "On the other hand **item-based** collaborative filtering"
      ]
    },
    {
      "cell_type": "markdown",
      "metadata": {
        "id": "1co-vD02V3zD"
      },
      "source": [
        "### Rating matrix\n",
        "\n",
        "|Rating|item 1|item 2|item 3|item 4|item 5| ... |\n",
        "|------|------|------|------|------|------|-----|\n",
        "|user 1| 5    |      | 4    | 1    |      |     |\n",
        "|user 2|      | 3    |      | 3    |      |     |\n",
        "|user 3|      | 4    | 4    | 1    |      |     |\n",
        "|user 4| 4    | 4    | 5    |      |      |     |\n",
        "|user 5| 2    | 4    |      | 5    | 2    |     |\n",
        "|...   |      |      |      |      |      |     |"
      ]
    },
    {
      "cell_type": "markdown",
      "metadata": {
        "id": "1vPZVHHdO9F-"
      },
      "source": [
        "# User based method using Centered K-Nearest Neighbours (KNN)"
      ]
    },
    {
      "cell_type": "code",
      "metadata": {
        "id": "BO_WOqvmZpVY"
      },
      "source": [
        "from surprise import KNNWithMeans\n",
        "\n",
        "# To use item-based cosine similarity\n",
        "algo = KNNWithMeans(sim_options={\n",
        "  \"name\": \"cosine\",\n",
        "  \"user_based\": True,  # Compute  similarities between items\n",
        "})\n"
      ],
      "execution_count": null,
      "outputs": []
    },
    {
      "cell_type": "markdown",
      "metadata": {
        "id": "sSEL9iyRviFy"
      },
      "source": [
        "### Evaluate with 5-fold cross-validation\n",
        "\n",
        "It's easy to evaluate the algorithm using cross validation in `surprise.model_selection`. It support follow accuracy metrics:\n",
        "\n",
        "- Root Mean Squared Error (RMSE)\n",
        "- Mean Squared Error (MSE)\n",
        "- Mean Absolute Error (MAE)\n",
        "- Fraction of Concordant Pairs (FCP)"
      ]
    },
    {
      "cell_type": "code",
      "metadata": {
        "colab": {
          "background_save": true
        },
        "id": "u2IiOv6XvoId",
        "outputId": "3f5e63de-d5e8-4d0a-8586-a33311a7c65c"
      },
      "source": [
        "from surprise.model_selection import cross_validate\n",
        "\n",
        "# Run 5-fold cross-validation and print results\n",
        "cross_validate(algo, data, measures=['RMSE', 'MAE'], cv=5, verbose=True)"
      ],
      "execution_count": null,
      "outputs": [
        {
          "name": "stdout",
          "output_type": "stream",
          "text": [
            "Computing the cosine similarity matrix...\n",
            "Done computing similarity matrix.\n",
            "Computing the cosine similarity matrix...\n",
            "Done computing similarity matrix.\n",
            "Computing the cosine similarity matrix...\n",
            "Done computing similarity matrix.\n",
            "Computing the cosine similarity matrix...\n",
            "Done computing similarity matrix.\n",
            "Computing the cosine similarity matrix...\n",
            "Done computing similarity matrix.\n",
            "Evaluating RMSE, MAE of algorithm KNNWithMeans on 5 split(s).\n",
            "\n",
            "                  Fold 1  Fold 2  Fold 3  Fold 4  Fold 5  Mean    Std     \n",
            "RMSE (testset)    0.9490  0.9351  0.9492  0.9442  0.9364  0.9428  0.0060  \n",
            "MAE (testset)     0.7444  0.7355  0.7446  0.7427  0.7390  0.7412  0.0035  \n",
            "Fit time          1.84    1.75    1.90    1.78    1.73    1.80    0.06    \n",
            "Test time         4.66    4.68    4.73    4.58    4.50    4.63    0.08    \n"
          ]
        },
        {
          "data": {
            "text/plain": [
              "{'fit_time': (1.8381211757659912,\n",
              "  1.7521154880523682,\n",
              "  1.901658535003662,\n",
              "  1.782780647277832,\n",
              "  1.7349183559417725),\n",
              " 'test_mae': array([0.74440984, 0.73547189, 0.74463689, 0.74268236, 0.73902804]),\n",
              " 'test_rmse': array([0.94901234, 0.93507251, 0.94921895, 0.94420391, 0.93641868]),\n",
              " 'test_time': (4.662696361541748,\n",
              "  4.677043437957764,\n",
              "  4.7342612743377686,\n",
              "  4.578236103057861,\n",
              "  4.501827239990234)}"
            ]
          },
          "execution_count": null,
          "metadata": {},
          "output_type": "execute_result"
        }
      ]
    },
    {
      "cell_type": "markdown",
      "metadata": {
        "id": "qYobGbHgvnrM"
      },
      "source": [
        ""
      ]
    },
    {
      "cell_type": "markdown",
      "metadata": {
        "id": "BQ6DzyWKPBzl"
      },
      "source": [
        "# Item-based method using KNN"
      ]
    },
    {
      "cell_type": "code",
      "metadata": {
        "colab": {
          "background_save": true
        },
        "id": "2fePhuJzOmcQ"
      },
      "source": [
        "# To use item-based cosine similarity\n",
        "algo = KNNWithMeans(sim_options={\n",
        "    \"name\": \"cosine\",\n",
        "    \"user_based\": False,  # Compute similarities between users\n",
        "})"
      ],
      "execution_count": null,
      "outputs": []
    },
    {
      "cell_type": "markdown",
      "metadata": {
        "id": "8rNtz5wgLu5V"
      },
      "source": [
        "## Evaluate with 5-fold cross-validation"
      ]
    },
    {
      "cell_type": "code",
      "metadata": {
        "id": "BMKSsm8jL3Wi"
      },
      "source": [
        "# Run 5-fold cross-validation and print results\n",
        "cross_validate(algo, data, measures=['RMSE', 'MAE'], cv=5, verbose=True)"
      ],
      "execution_count": null,
      "outputs": []
    },
    {
      "cell_type": "markdown",
      "metadata": {
        "id": "R3hX3RMSB_0P"
      },
      "source": [
        "# CoClustering\n"
      ]
    },
    {
      "cell_type": "code",
      "metadata": {
        "colab": {
          "background_save": true
        },
        "id": "Ipg7YpqqCBd1"
      },
      "source": [
        "from surprise import CoClustering\n",
        "\n",
        "algo = CoClustering()"
      ],
      "execution_count": null,
      "outputs": []
    },
    {
      "cell_type": "markdown",
      "metadata": {
        "id": "CAtmf7niworp"
      },
      "source": [
        "## Train the algorithm on the trainset"
      ]
    },
    {
      "cell_type": "code",
      "metadata": {
        "colab": {
          "background_save": true
        },
        "id": "Y9xLYQUaQOVe",
        "outputId": "71c4902b-e2ab-4580-db4b-55ba1ee194a4"
      },
      "source": [
        "algo.fit(trainset)"
      ],
      "execution_count": null,
      "outputs": [
        {
          "data": {
            "text/plain": [
              "<surprise.prediction_algorithms.co_clustering.CoClustering at 0x7f79819efe90>"
            ]
          },
          "execution_count": null,
          "metadata": {},
          "output_type": "execute_result"
        }
      ]
    },
    {
      "cell_type": "markdown",
      "metadata": {
        "id": "Lynm6R-RswrQ"
      },
      "source": [
        "## Make prediction on testset"
      ]
    },
    {
      "cell_type": "code",
      "metadata": {
        "colab": {
          "background_save": true
        },
        "id": "rgEj2MQ0svNg"
      },
      "source": [
        "predictions = algo.test(testset)"
      ],
      "execution_count": null,
      "outputs": []
    },
    {
      "cell_type": "markdown",
      "metadata": {
        "id": "wTgnWzPjtJto"
      },
      "source": [
        "## Compute RMSE for predictions"
      ]
    },
    {
      "cell_type": "code",
      "metadata": {
        "colab": {
          "background_save": true
        },
        "id": "2SxNVU1MtJ7w",
        "outputId": "c36c5841-ef9c-41ce-db9b-abd9ae39b389"
      },
      "source": [
        "from surprise import accuracy\n",
        "\n",
        "accuracy.rmse(predictions)"
      ],
      "execution_count": null,
      "outputs": [
        {
          "name": "stdout",
          "output_type": "stream",
          "text": [
            "RMSE: 0.9658\n"
          ]
        },
        {
          "data": {
            "text/plain": [
              "0.9658082516421524"
            ]
          },
          "execution_count": null,
          "metadata": {},
          "output_type": "execute_result"
        }
      ]
    },
    {
      "cell_type": "markdown",
      "metadata": {
        "id": "Ac71txxmsuTI"
      },
      "source": [
        "## Mkae preduction for specific user and items"
      ]
    },
    {
      "cell_type": "code",
      "metadata": {
        "colab": {
          "background_save": true
        },
        "id": "O4EtnYRO2VNY",
        "outputId": "3a19c7ae-399d-4304-9662-b500637b9845"
      },
      "source": [
        "uid = str(196)  # raw user id (as in the ratings file). They are **strings**!\n",
        "iid = str(302)  # raw item id (as in the ratings file). They are **strings**!\n",
        "\n",
        "# get a prediction for specific users and items.\n",
        "pred = algo.predict(uid, iid, r_ui=4, verbose=True)"
      ],
      "execution_count": null,
      "outputs": [
        {
          "name": "stdout",
          "output_type": "stream",
          "text": [
            "user: 196        item: 302        r_ui = 4.00   est = 4.38   {'was_impossible': False}\n"
          ]
        }
      ]
    }
  ]
}