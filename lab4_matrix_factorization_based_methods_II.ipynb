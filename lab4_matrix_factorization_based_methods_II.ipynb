{
  "nbformat": 4,
  "nbformat_minor": 0,
  "metadata": {
    "colab": {
      "name": "lab4 matrix factorization based methods II.ipynb",
      "provenance": [],
      "collapsed_sections": [],
      "authorship_tag": "ABX9TyM4l8ISz6lS85tyMctwBLmF",
      "include_colab_link": true
    },
    "kernelspec": {
      "name": "python3",
      "display_name": "Python 3"
    },
    "language_info": {
      "name": "python"
    }
  },
  "cells": [
    {
      "cell_type": "markdown",
      "metadata": {
        "id": "view-in-github",
        "colab_type": "text"
      },
      "source": [
        "<a href=\"https://colab.research.google.com/github/hkbu-kennycheng/comp7240/blob/main/lab4_matrix_factorization_based_methods_II.ipynb\" target=\"_parent\"><img src=\"https://colab.research.google.com/assets/colab-badge.svg\" alt=\"Open In Colab\"/></a>"
      ]
    },
    {
      "cell_type": "markdown",
      "metadata": {
        "id": "VCJng5qCLFVK"
      },
      "source": [
        "# Lab 4: Matrix factorization based methods II\n",
        "\n",
        "In this lab, we would do experiment on SVD++ and NMF algorthium. Let's start with installing `surprise` library."
      ]
    },
    {
      "cell_type": "code",
      "metadata": {
        "colab": {
          "base_uri": "https://localhost:8080/"
        },
        "id": "gh-zxW_UL8yh",
        "outputId": "e17c00d2-3723-4888-904e-2377d48a1204"
      },
      "source": [
        "!pip install surprise"
      ],
      "execution_count": null,
      "outputs": [
        {
          "output_type": "stream",
          "name": "stdout",
          "text": [
            "Collecting surprise\n",
            "  Downloading surprise-0.1-py2.py3-none-any.whl (1.8 kB)\n",
            "Collecting scikit-surprise\n",
            "  Downloading scikit-surprise-1.1.1.tar.gz (11.8 MB)\n",
            "\u001b[K     |████████████████████████████████| 11.8 MB 47 kB/s \n",
            "\u001b[?25hRequirement already satisfied: joblib>=0.11 in /usr/local/lib/python3.7/dist-packages (from scikit-surprise->surprise) (1.0.1)\n",
            "Requirement already satisfied: numpy>=1.11.2 in /usr/local/lib/python3.7/dist-packages (from scikit-surprise->surprise) (1.19.5)\n",
            "Requirement already satisfied: scipy>=1.0.0 in /usr/local/lib/python3.7/dist-packages (from scikit-surprise->surprise) (1.4.1)\n",
            "Requirement already satisfied: six>=1.10.0 in /usr/local/lib/python3.7/dist-packages (from scikit-surprise->surprise) (1.15.0)\n",
            "Building wheels for collected packages: scikit-surprise\n",
            "  Building wheel for scikit-surprise (setup.py) ... \u001b[?25l\u001b[?25hdone\n",
            "  Created wheel for scikit-surprise: filename=scikit_surprise-1.1.1-cp37-cp37m-linux_x86_64.whl size=1619401 sha256=64d36773fcb6bf600e2ae5cd2b883cd52a4ab6f382f911ec3e3a22419752ba49\n",
            "  Stored in directory: /root/.cache/pip/wheels/76/44/74/b498c42be47b2406bd27994e16c5188e337c657025ab400c1c\n",
            "Successfully built scikit-surprise\n",
            "Installing collected packages: scikit-surprise, surprise\n",
            "Successfully installed scikit-surprise-1.1.1 surprise-0.1\n"
          ]
        }
      ]
    },
    {
      "cell_type": "markdown",
      "metadata": {
        "id": "AJQdA25XXWGt"
      },
      "source": [
        "# Dataset: FilmTrust\n",
        "\n",
        "![](https://url2img-web.herokuapp.com/aHR0cHM6Ly9ndW9ndWliaW5nLmdpdGh1Yi5pby9saWJyZWMvZGF0YXNldHMuaHRtbCNmaWxtdHJ1c3Q=)"
      ]
    },
    {
      "cell_type": "code",
      "metadata": {
        "colab": {
          "base_uri": "https://localhost:8080/"
        },
        "id": "YJfBD-yCChqI",
        "outputId": "15bd461d-b207-4c7b-cfa7-bceb7ae388ed"
      },
      "source": [
        "!curl https://guoguibing.github.io/librec/datasets/filmtrust.zip > filmtrust.zip\n",
        "!unzip filmtrust.zip"
      ],
      "execution_count": null,
      "outputs": [
        {
          "output_type": "stream",
          "name": "stdout",
          "text": [
            "  % Total    % Received % Xferd  Average Speed   Time    Time     Time  Current\n",
            "                                 Dload  Upload   Total   Spent    Left  Speed\n",
            "\r  0     0    0     0    0     0      0      0 --:--:-- --:--:-- --:--:--     0\r100 94378  100 94378    0     0   801k      0 --:--:-- --:--:-- --:--:--  801k\n",
            "Archive:  filmtrust.zip\n",
            "  inflating: ratings.txt             \n",
            "  inflating: readme.txt              \n",
            "  inflating: trust.txt               \n"
          ]
        }
      ]
    },
    {
      "cell_type": "code",
      "metadata": {
        "colab": {
          "base_uri": "https://localhost:8080/"
        },
        "id": "P-AGhNZHNJAf",
        "outputId": "bfbfee94-3e2f-4a4c-e809-f4ea0c5d51ca"
      },
      "source": [
        "!head readme.txt"
      ],
      "execution_count": null,
      "outputs": [
        {
          "output_type": "stream",
          "name": "stdout",
          "text": [
            "1. Item Ratings (ratings.txt): [user-id, item-id, rating-value]\r\n",
            "\r\n",
            "2. Trust Ratings (trust.txt):  [user-id (trustor), user-id (trustee), trust-value]\r\n",
            "\r\n",
            "The trust links are directed. \r\n",
            "\r\n",
            "3. To use this data set in your research, please consider to cite our work: \r\n",
            "\r\n",
            "   Guibing Guo, Jie Zhang and Neil Yorke-Smith. A Novel Bayesian Similarity Measure for Recommender Systems. Proceedings of the 23rd International Joint Conference on Artifical Intelligence. IJCAI 2013.\r\n",
            "\r\n",
            "\r\n",
            "Copy Right 2013\r\n",
            "Guibing Guo\r\n",
            "guoguibing@gmail.com"
          ]
        }
      ]
    },
    {
      "cell_type": "code",
      "metadata": {
        "colab": {
          "base_uri": "https://localhost:8080/"
        },
        "id": "pkWFNz_LNDOa",
        "outputId": "f4dc04fc-1a1e-4161-ab5e-23f807555a86"
      },
      "source": [
        "!head ratings.txt"
      ],
      "execution_count": null,
      "outputs": [
        {
          "output_type": "stream",
          "name": "stdout",
          "text": [
            "1 1 2\n",
            "1 2 4\n",
            "1 3 3.5\n",
            "1 4 3\n",
            "1 5 4\n",
            "1 6 3.5\n",
            "1 7 3.5\n",
            "1 8 3\n",
            "1 9 2.5\n",
            "1 10 4\n"
          ]
        }
      ]
    },
    {
      "cell_type": "markdown",
      "metadata": {
        "id": "uRts7sZopQkt"
      },
      "source": [
        "## Import data from csv file"
      ]
    },
    {
      "cell_type": "code",
      "metadata": {
        "id": "la8Xj98naiwj"
      },
      "source": [
        "from surprise import Dataset\n",
        "from surprise import Reader\n",
        "\n",
        "# path to dataset file\n",
        "file_path = 'ratings.txt'\n",
        "\n",
        "# seperate user item rating using comma\n",
        "reader = Reader(sep=' ')\n",
        "\n",
        "data = Dataset.load_from_file(file_path, reader=reader)"
      ],
      "execution_count": null,
      "outputs": []
    },
    {
      "cell_type": "markdown",
      "metadata": {
        "id": "tyR2OYNB4LWj"
      },
      "source": [
        "## Split training set and testing set"
      ]
    },
    {
      "cell_type": "code",
      "metadata": {
        "id": "F7fbCXzGP9t9"
      },
      "source": [
        "from surprise.model_selection import train_test_split\n",
        "\n",
        "# sample random trainset and testset\n",
        "# test set is made of 25% of the ratings.\n",
        "trainset, testset = train_test_split(data, test_size=.25)"
      ],
      "execution_count": null,
      "outputs": []
    },
    {
      "cell_type": "markdown",
      "metadata": {
        "id": "u1UiMgHALJW3"
      },
      "source": [
        "# SVD++"
      ]
    },
    {
      "cell_type": "code",
      "metadata": {
        "colab": {
          "base_uri": "https://localhost:8080/"
        },
        "id": "y4ykaY6SLCG0",
        "outputId": "6f4a7eff-fb77-42f4-b3b1-47bf1d60bb5a"
      },
      "source": [
        "from surprise import SVDpp\n",
        "from surprise import accuracy\n",
        "\n",
        "# We'll use the famous SVD++ algorithm.\n",
        "algo = SVDpp()\n",
        "\n",
        "# Train the algorithm on the trainset, and predict ratings for the testset\n",
        "algo.fit(trainset)\n",
        "predictions = algo.test(testset)\n",
        "\n",
        "# Then compute RMSE\n",
        "accuracy.rmse(predictions)"
      ],
      "execution_count": null,
      "outputs": [
        {
          "output_type": "stream",
          "name": "stdout",
          "text": [
            "RMSE: 0.7924\n"
          ]
        },
        {
          "output_type": "execute_result",
          "data": {
            "text/plain": [
              "0.7924222901813406"
            ]
          },
          "metadata": {},
          "execution_count": 9
        }
      ]
    },
    {
      "cell_type": "markdown",
      "metadata": {
        "id": "pnMa7yMSQMHq"
      },
      "source": [
        "## Evaluation"
      ]
    },
    {
      "cell_type": "code",
      "metadata": {
        "colab": {
          "base_uri": "https://localhost:8080/"
        },
        "id": "dMMGR28-QQl6",
        "outputId": "12fffa7c-ed94-4923-e29a-b479018484d7"
      },
      "source": [
        "from surprise.model_selection import cross_validate\n",
        "\n",
        "# Run 5-fold cross-validation and print results\n",
        "cross_validate(algo, data, measures=['RMSE', 'MAE'], cv=5, verbose=True)"
      ],
      "execution_count": null,
      "outputs": [
        {
          "output_type": "stream",
          "name": "stdout",
          "text": [
            "Evaluating RMSE, MAE of algorithm SVDpp on 5 split(s).\n",
            "\n",
            "                  Fold 1  Fold 2  Fold 3  Fold 4  Fold 5  Mean    Std     \n",
            "RMSE (testset)    0.7963  0.8069  0.7971  0.7901  0.8040  0.7989  0.0060  \n",
            "MAE (testset)     0.6160  0.6183  0.6125  0.6087  0.6268  0.6165  0.0061  \n",
            "Fit time          16.27   16.32   16.10   16.10   16.23   16.20   0.09    \n",
            "Test time         0.47    0.50    0.47    0.53    0.47    0.49    0.03    \n"
          ]
        },
        {
          "output_type": "execute_result",
          "data": {
            "text/plain": [
              "{'fit_time': (16.271167039871216,\n",
              "  16.320322513580322,\n",
              "  16.09733533859253,\n",
              "  16.103824615478516,\n",
              "  16.227675199508667),\n",
              " 'test_mae': array([0.61597227, 0.61832328, 0.61249449, 0.60874681, 0.62675763]),\n",
              " 'test_rmse': array([0.79627551, 0.8068615 , 0.79707993, 0.79009553, 0.80402586]),\n",
              " 'test_time': (0.4740114212036133,\n",
              "  0.4998645782470703,\n",
              "  0.4662456512451172,\n",
              "  0.5345063209533691,\n",
              "  0.46714353561401367)}"
            ]
          },
          "metadata": {},
          "execution_count": 10
        }
      ]
    },
    {
      "cell_type": "markdown",
      "metadata": {
        "id": "rzA1BvrtBCDI"
      },
      "source": [
        "# NMF"
      ]
    },
    {
      "cell_type": "code",
      "metadata": {
        "id": "KSfJl0NwL2I3",
        "colab": {
          "base_uri": "https://localhost:8080/"
        },
        "outputId": "371ba844-b30b-4238-ed5d-d835cd3eb80a"
      },
      "source": [
        "from surprise import NMF\n",
        "\n",
        "# We'll use the famous NMF algorithm.\n",
        "algo = NMF()\n",
        "\n",
        "# Train the algorithm on the trainset, and predict ratings for the testset\n",
        "algo.fit(trainset)\n",
        "predictions = algo.test(testset)\n",
        "\n",
        "# Then compute RMSE\n",
        "accuracy.rmse(predictions)"
      ],
      "execution_count": null,
      "outputs": [
        {
          "output_type": "stream",
          "name": "stdout",
          "text": [
            "RMSE: 0.8563\n"
          ]
        },
        {
          "output_type": "execute_result",
          "data": {
            "text/plain": [
              "0.8563467342548639"
            ]
          },
          "metadata": {},
          "execution_count": 11
        }
      ]
    },
    {
      "cell_type": "markdown",
      "metadata": {
        "id": "tN_euC75QWfC"
      },
      "source": [
        "## Evaluation"
      ]
    },
    {
      "cell_type": "code",
      "metadata": {
        "id": "25SnzinvQWfD",
        "colab": {
          "base_uri": "https://localhost:8080/"
        },
        "outputId": "7c56b3cf-ea9a-4141-9d3c-fb42baaa65b2"
      },
      "source": [
        "# Run 5-fold cross-validation and print results\n",
        "cross_validate(algo, data, measures=['RMSE', 'MAE'], cv=5, verbose=True)"
      ],
      "execution_count": null,
      "outputs": [
        {
          "output_type": "stream",
          "name": "stdout",
          "text": [
            "Evaluating RMSE, MAE of algorithm NMF on 5 split(s).\n",
            "\n",
            "                  Fold 1  Fold 2  Fold 3  Fold 4  Fold 5  Mean    Std     \n",
            "RMSE (testset)    0.8554  0.8479  0.8521  0.8578  0.8636  0.8554  0.0053  \n",
            "MAE (testset)     0.6553  0.6500  0.6514  0.6592  0.6585  0.6549  0.0037  \n",
            "Fit time          2.09    2.15    2.12    2.09    2.08    2.11    0.03    \n",
            "Test time         0.06    0.06    0.13    0.05    0.05    0.07    0.03    \n"
          ]
        },
        {
          "output_type": "execute_result",
          "data": {
            "text/plain": [
              "{'fit_time': (2.0905656814575195,\n",
              "  2.1549530029296875,\n",
              "  2.11540150642395,\n",
              "  2.0944085121154785,\n",
              "  2.0777060985565186),\n",
              " 'test_mae': array([0.65533201, 0.64999147, 0.65136709, 0.65923584, 0.65849913]),\n",
              " 'test_rmse': array([0.85537509, 0.84785546, 0.85214577, 0.85784748, 0.86357908]),\n",
              " 'test_time': (0.05583643913269043,\n",
              "  0.05752992630004883,\n",
              "  0.13277006149291992,\n",
              "  0.050519704818725586,\n",
              "  0.05477499961853027)}"
            ]
          },
          "metadata": {},
          "execution_count": 12
        }
      ]
    }
  ]
}