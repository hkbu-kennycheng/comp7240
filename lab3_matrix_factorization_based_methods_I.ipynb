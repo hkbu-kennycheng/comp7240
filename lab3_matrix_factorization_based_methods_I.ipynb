{
  "nbformat": 4,
  "nbformat_minor": 0,
  "metadata": {
    "colab": {
      "name": "lab3 matrix factorization based methods I.ipynb",
      "provenance": [],
      "collapsed_sections": [],
      "authorship_tag": "ABX9TyMoNl11xqCa2jsfMG+rPjCY",
      "include_colab_link": true
    },
    "kernelspec": {
      "display_name": "Python 3",
      "name": "python3"
    },
    "language_info": {
      "name": "python"
    }
  },
  "cells": [
    {
      "cell_type": "markdown",
      "metadata": {
        "id": "view-in-github",
        "colab_type": "text"
      },
      "source": [
        "<a href=\"https://colab.research.google.com/github/hkbu-kennycheng/comp7240/blob/main/lab3_matrix_factorization_based_methods_I.ipynb\" target=\"_parent\"><img src=\"https://colab.research.google.com/assets/colab-badge.svg\" alt=\"Open In Colab\"/></a>"
      ]
    },
    {
      "cell_type": "markdown",
      "metadata": {
        "id": "W5tCVmgyTBuZ"
      },
      "source": [
        "# Lab 3: matrix factorization based methods I\n",
        "\n",
        "In this lab, we would do experiment on Singular Value Decomposition (SVD) and Probabilistic Matrix Factorization (PMF) algorthium. Let's start with installing `surprise` library."
      ]
    },
    {
      "cell_type": "code",
      "metadata": {
        "colab": {
          "base_uri": "https://localhost:8080/"
        },
        "id": "uTQbwGI6Xgc5",
        "outputId": "85623a01-e306-46ab-861b-d8a6de14862a"
      },
      "source": [
        "!pip install surprise"
      ],
      "execution_count": 76,
      "outputs": [
        {
          "output_type": "stream",
          "text": [
            "Requirement already satisfied: surprise in /usr/local/lib/python3.7/dist-packages (0.1)\n",
            "Requirement already satisfied: scikit-surprise in /usr/local/lib/python3.7/dist-packages (from surprise) (1.1.1)\n",
            "Requirement already satisfied: joblib>=0.11 in /usr/local/lib/python3.7/dist-packages (from scikit-surprise->surprise) (1.0.1)\n",
            "Requirement already satisfied: numpy>=1.11.2 in /usr/local/lib/python3.7/dist-packages (from scikit-surprise->surprise) (1.19.5)\n",
            "Requirement already satisfied: scipy>=1.0.0 in /usr/local/lib/python3.7/dist-packages (from scikit-surprise->surprise) (1.4.1)\n",
            "Requirement already satisfied: six>=1.10.0 in /usr/local/lib/python3.7/dist-packages (from scikit-surprise->surprise) (1.15.0)\n"
          ],
          "name": "stdout"
        }
      ]
    },
    {
      "cell_type": "markdown",
      "metadata": {
        "id": "flRxb3zaxxdQ"
      },
      "source": [
        "# Dataset: [Amazon Review Data](https://nijianmo.github.io/amazon/index.html)\n",
        "\n",
        "Let's take a look to today's dataset.\n",
        "\n",
        "![](https://url2img-web.herokuapp.com/aHR0cHM6Ly9uaWppYW5tby5naXRodWIuaW8vYW1hem9uL2luZGV4Lmh0bWwjbWFpbg==)\n",
        "\n",
        "Although the whole dataset is quite big. There is a sample dataset with only Home and Kitchen product reviews in json format. Let's download it by `curl` command and unzip it with `zcat`.\n",
        "\n"
      ]
    },
    {
      "cell_type": "code",
      "metadata": {
        "colab": {
          "base_uri": "https://localhost:8080/"
        },
        "id": "j9H5Nkz7x1Ke",
        "outputId": "b2b5dc63-9e5f-4443-ee56-bd253ed35feb"
      },
      "source": [
        "!curl http://deepyeti.ucsd.edu/jianmo/amazon/categoryFilesSmall/Digital_Music_5.json.gz | zcat > data.json"
      ],
      "execution_count": 77,
      "outputs": [
        {
          "output_type": "stream",
          "text": [
            "  % Total    % Received % Xferd  Average Speed   Time    Time     Time  Current\n",
            "                                 Dload  Upload   Total   Spent    Left  Speed\n",
            "100 18.5M  100 18.5M    0     0  16.0M      0  0:00:01  0:00:01 --:--:-- 16.0M\n"
          ],
          "name": "stdout"
        }
      ]
    },
    {
      "cell_type": "markdown",
      "metadata": {
        "id": "m3VoYOY3Oooa"
      },
      "source": [
        "We could use `json` library to load the json file into a list by taking out only `reviewerID`, `asin` and `overall`.\n",
        "- `reviewerID` is the user ID in string format.\n",
        "- `asin` is an unique identifier of a particular product.\n",
        "- `overall` is the rating for the product given by the user. "
      ]
    },
    {
      "cell_type": "code",
      "metadata": {
        "id": "e9C2HPFAyW5W"
      },
      "source": [
        "import json\n",
        "\n",
        "# reviews = pd.DataFrame(columns=['reviewerID', 'asin', 'overall'])\n",
        "reviews = []\n",
        "with open('data.json', 'r') as f:\n",
        "    for l in f:\n",
        "        r = json.loads(l)\n",
        "        reviews.append([r['reviewerID'], r['asin'], r['overall']])"
      ],
      "execution_count": 78,
      "outputs": []
    },
    {
      "cell_type": "code",
      "metadata": {
        "colab": {
          "base_uri": "https://localhost:8080/"
        },
        "id": "MgF6tUIZIOYD",
        "outputId": "c04b1167-984f-4411-cfce-719278a4321c"
      },
      "source": [
        "reviews[0]"
      ],
      "execution_count": 79,
      "outputs": [
        {
          "output_type": "execute_result",
          "data": {
            "text/plain": [
              "['A2TYZ821XXK2YZ', '3426958910', 5.0]"
            ]
          },
          "metadata": {},
          "execution_count": 79
        }
      ]
    },
    {
      "cell_type": "markdown",
      "metadata": {
        "id": "Xz2NrFr4PW3e"
      },
      "source": [
        "Since `reviewerID` and `asin` is in string format, changing to numeric value is needed before passing in to algorithm."
      ]
    },
    {
      "cell_type": "code",
      "metadata": {
        "colab": {
          "base_uri": "https://localhost:8080/",
          "height": 424
        },
        "id": "cB7i4Xebyt5q",
        "outputId": "4c70d246-336c-4eaa-c91b-d737ac7bbe2f"
      },
      "source": [
        "import pandas as pd\n",
        "\n",
        "df = pd.DataFrame(reviews)\n",
        "\n",
        "# build a dictionary of reviewerID to numeric ID by index\n",
        "reviewerIDs = df[0].unique()\n",
        "reviewerIDdict = dict(zip(reviewerIDs, range(len(reviewerIDs))))\n",
        "\n",
        "# build a dictionary of asin to numeric ID by index\n",
        "asins = df[1].unique()\n",
        "asinDict = dict(zip(asins, range(len(asins))))\n",
        "\n",
        "# replace reviewerID and asin to numeric value by the dictionaries\n",
        "df[0] = df[0].replace(reviewerIDdict)\n",
        "df[1] = df[1].replace(asinDict)\n",
        "\n",
        "df"
      ],
      "execution_count": 80,
      "outputs": [
        {
          "output_type": "execute_result",
          "data": {
            "text/html": [
              "<div>\n",
              "<style scoped>\n",
              "    .dataframe tbody tr th:only-of-type {\n",
              "        vertical-align: middle;\n",
              "    }\n",
              "\n",
              "    .dataframe tbody tr th {\n",
              "        vertical-align: top;\n",
              "    }\n",
              "\n",
              "    .dataframe thead th {\n",
              "        text-align: right;\n",
              "    }\n",
              "</style>\n",
              "<table border=\"1\" class=\"dataframe\">\n",
              "  <thead>\n",
              "    <tr style=\"text-align: right;\">\n",
              "      <th></th>\n",
              "      <th>0</th>\n",
              "      <th>1</th>\n",
              "      <th>2</th>\n",
              "    </tr>\n",
              "  </thead>\n",
              "  <tbody>\n",
              "    <tr>\n",
              "      <th>0</th>\n",
              "      <td>0</td>\n",
              "      <td>0</td>\n",
              "      <td>5.0</td>\n",
              "    </tr>\n",
              "    <tr>\n",
              "      <th>1</th>\n",
              "      <td>1</td>\n",
              "      <td>0</td>\n",
              "      <td>5.0</td>\n",
              "    </tr>\n",
              "    <tr>\n",
              "      <th>2</th>\n",
              "      <td>2</td>\n",
              "      <td>0</td>\n",
              "      <td>5.0</td>\n",
              "    </tr>\n",
              "    <tr>\n",
              "      <th>3</th>\n",
              "      <td>3</td>\n",
              "      <td>0</td>\n",
              "      <td>4.0</td>\n",
              "    </tr>\n",
              "    <tr>\n",
              "      <th>4</th>\n",
              "      <td>4</td>\n",
              "      <td>1</td>\n",
              "      <td>5.0</td>\n",
              "    </tr>\n",
              "    <tr>\n",
              "      <th>...</th>\n",
              "      <td>...</td>\n",
              "      <td>...</td>\n",
              "      <td>...</td>\n",
              "    </tr>\n",
              "    <tr>\n",
              "      <th>169776</th>\n",
              "      <td>2598</td>\n",
              "      <td>9682</td>\n",
              "      <td>5.0</td>\n",
              "    </tr>\n",
              "    <tr>\n",
              "      <th>169777</th>\n",
              "      <td>8493</td>\n",
              "      <td>9682</td>\n",
              "      <td>5.0</td>\n",
              "    </tr>\n",
              "    <tr>\n",
              "      <th>169778</th>\n",
              "      <td>15667</td>\n",
              "      <td>9682</td>\n",
              "      <td>5.0</td>\n",
              "    </tr>\n",
              "    <tr>\n",
              "      <th>169779</th>\n",
              "      <td>16411</td>\n",
              "      <td>9682</td>\n",
              "      <td>5.0</td>\n",
              "    </tr>\n",
              "    <tr>\n",
              "      <th>169780</th>\n",
              "      <td>6671</td>\n",
              "      <td>9682</td>\n",
              "      <td>5.0</td>\n",
              "    </tr>\n",
              "  </tbody>\n",
              "</table>\n",
              "<p>169781 rows × 3 columns</p>\n",
              "</div>"
            ],
            "text/plain": [
              "            0     1    2\n",
              "0           0     0  5.0\n",
              "1           1     0  5.0\n",
              "2           2     0  5.0\n",
              "3           3     0  4.0\n",
              "4           4     1  5.0\n",
              "...       ...   ...  ...\n",
              "169776   2598  9682  5.0\n",
              "169777   8493  9682  5.0\n",
              "169778  15667  9682  5.0\n",
              "169779  16411  9682  5.0\n",
              "169780   6671  9682  5.0\n",
              "\n",
              "[169781 rows x 3 columns]"
            ]
          },
          "metadata": {},
          "execution_count": 80
        }
      ]
    },
    {
      "cell_type": "markdown",
      "metadata": {
        "id": "ZzPyx-qJPsIi"
      },
      "source": [
        "After converting to numerice value, we could wrap it as `Dataset` using `load_from_df`."
      ]
    },
    {
      "cell_type": "code",
      "metadata": {
        "id": "6GmFzuMa0juR"
      },
      "source": [
        "from surprise import Dataset\n",
        "from surprise import Reader\n",
        "\n",
        "# build the reader object by specifying rating scale\n",
        "reader = Reader(rating_scale=(1, 5))\n",
        "\n",
        "# load the data with from panda data frame\n",
        "data = Dataset.load_from_df(df, reader=reader)"
      ],
      "execution_count": 81,
      "outputs": []
    },
    {
      "cell_type": "markdown",
      "metadata": {
        "id": "F3DPrbdMP--y"
      },
      "source": [
        "Finally, split it in training set and testing set."
      ]
    },
    {
      "cell_type": "code",
      "metadata": {
        "id": "F7fbCXzGP9t9"
      },
      "source": [
        "from surprise.model_selection import train_test_split\n",
        "\n",
        "# sample random trainset and testset\n",
        "# test set is made of 25% of the ratings.\n",
        "trainset, testset = train_test_split(data, test_size=.25)"
      ],
      "execution_count": 82,
      "outputs": []
    },
    {
      "cell_type": "markdown",
      "metadata": {
        "id": "AJQdA25XXWGt"
      },
      "source": [
        "## Singular Value Decomposition (SVD)\n"
      ]
    },
    {
      "cell_type": "code",
      "metadata": {
        "colab": {
          "base_uri": "https://localhost:8080/"
        },
        "id": "t94mEA2VXY2v",
        "outputId": "c3a46edb-8166-4fd5-a498-532c0b585a86"
      },
      "source": [
        "from surprise import SVD\n",
        "from surprise import accuracy\n",
        "\n",
        "# We'll use the famous SVD algorithm.\n",
        "algo = SVD()\n",
        "\n",
        "# Train the algorithm on the trainset, and predict ratings for the testset\n",
        "algo.fit(trainset)\n",
        "predictions = algo.test(testset)\n",
        "\n",
        "# Then compute RMSE\n",
        "accuracy.rmse(predictions)"
      ],
      "execution_count": 83,
      "outputs": [
        {
          "output_type": "stream",
          "text": [
            "RMSE: 0.5676\n"
          ],
          "name": "stdout"
        },
        {
          "output_type": "execute_result",
          "data": {
            "text/plain": [
              "0.567603021219035"
            ]
          },
          "metadata": {},
          "execution_count": 83
        }
      ]
    },
    {
      "cell_type": "markdown",
      "metadata": {
        "id": "S8SIHAZJkqOK"
      },
      "source": [
        "## Evaluation"
      ]
    },
    {
      "cell_type": "code",
      "metadata": {
        "colab": {
          "base_uri": "https://localhost:8080/"
        },
        "id": "ReBTAiMQkp4l",
        "outputId": "c81d08f6-535c-4532-e3ab-7dd54558544c"
      },
      "source": [
        "from surprise.model_selection import cross_validate\n",
        "\n",
        "# Run 5-fold cross-validation and print results\n",
        "cross_validate(algo, data, measures=['RMSE', 'MAE', 'FCP'], cv=5, verbose=True)"
      ],
      "execution_count": 84,
      "outputs": [
        {
          "output_type": "stream",
          "text": [
            "Evaluating RMSE, MAE, FCP of algorithm SVD on 5 split(s).\n",
            "\n",
            "                  Fold 1  Fold 2  Fold 3  Fold 4  Fold 5  Mean    Std     \n",
            "RMSE (testset)    0.5521  0.5653  0.5631  0.5711  0.5610  0.5625  0.0062  \n",
            "MAE (testset)     0.3325  0.3361  0.3359  0.3372  0.3358  0.3355  0.0016  \n",
            "FCP (testset)     0.6367  0.6140  0.6208  0.6204  0.6083  0.6200  0.0095  \n",
            "Fit time          9.31    9.16    9.26    9.06    9.05    9.17    0.10    \n",
            "Test time         0.38    0.38    0.37    0.59    0.35    0.41    0.09    \n"
          ],
          "name": "stdout"
        },
        {
          "output_type": "execute_result",
          "data": {
            "text/plain": [
              "{'fit_time': (9.310689210891724,\n",
              "  9.160857677459717,\n",
              "  9.262882471084595,\n",
              "  9.061443567276001,\n",
              "  9.052412033081055),\n",
              " 'test_fcp': array([0.63674277, 0.61402927, 0.62084638, 0.62035843, 0.60826246]),\n",
              " 'test_mae': array([0.33247687, 0.33605355, 0.33591178, 0.337153  , 0.3358271 ]),\n",
              " 'test_rmse': array([0.5520808 , 0.56529935, 0.56311369, 0.57109399, 0.5610484 ]),\n",
              " 'test_time': (0.3773348331451416,\n",
              "  0.3759145736694336,\n",
              "  0.3693201541900635,\n",
              "  0.5929265022277832,\n",
              "  0.34999585151672363)}"
            ]
          },
          "metadata": {},
          "execution_count": 84
        }
      ]
    },
    {
      "cell_type": "markdown",
      "metadata": {
        "id": "pMIGBL8fK1-x"
      },
      "source": [
        "# Probabilistic Matrix Factorization (PMF)"
      ]
    },
    {
      "cell_type": "code",
      "metadata": {
        "id": "vcm7zS02K3mJ"
      },
      "source": [
        "# By setting biased to False, it is equivalent to PMF.\n",
        "algo = SVD(biased=False)\n",
        "\n",
        "# Train the algorithm on the trainset, and predict ratings for the testset\n",
        "algo.fit(trainset)\n",
        "predictions = algo.test(testset)\n",
        "\n",
        "# Then compute RMSE\n",
        "accuracy.rmse(predictions)"
      ],
      "execution_count": null,
      "outputs": []
    },
    {
      "cell_type": "markdown",
      "metadata": {
        "id": "eQoYMrDmkvdt"
      },
      "source": [
        "## Evaluation"
      ]
    },
    {
      "cell_type": "code",
      "metadata": {
        "colab": {
          "base_uri": "https://localhost:8080/"
        },
        "id": "ExV4SVVrkw3E",
        "outputId": "a3126894-a5c1-4225-e07a-fb717495d717"
      },
      "source": [
        "# Run 5-fold cross-validation and print results\n",
        "cross_validate(algo, data, measures=['RMSE', 'MAE', 'FCP'], cv=5, verbose=True)"
      ],
      "execution_count": 86,
      "outputs": [
        {
          "metadata": {
            "tags": null
          },
          "name": "stdout",
          "output_type": "stream",
          "text": [
            "Evaluating RMSE, MAE, FCP of algorithm SVD on 5 split(s).\n",
            "\n",
            "                  Fold 1  Fold 2  Fold 3  Fold 4  Fold 5  Mean    Std     \n",
            "RMSE (testset)    2.9344  2.8770  2.9019  2.8985  2.8868  2.8997  0.0195  \n",
            "MAE (testset)     2.5828  2.5208  2.5463  2.5431  2.5308  2.5448  0.0211  \n",
            "FCP (testset)     0.6380  0.5903  0.5982  0.5911  0.5888  0.6013  0.0186  \n",
            "Fit time          9.02    9.11    9.15    9.00    9.14    9.08    0.06    \n",
            "Test time         0.30    0.31    0.30    0.53    0.32    0.35    0.09    \n"
          ]
        },
        {
          "data": {
            "text/plain": [
              "{'fit_time': (9.024967193603516,\n",
              "  9.106263637542725,\n",
              "  9.14866018295288,\n",
              "  8.995039224624634,\n",
              "  9.138448476791382),\n",
              " 'test_fcp': array([0.63798342, 0.59031328, 0.5981757 , 0.59114249, 0.5888278 ]),\n",
              " 'test_mae': array([2.58278798, 2.52084052, 2.54625864, 2.54309248, 2.53080891]),\n",
              " 'test_rmse': array([2.93440061, 2.87699287, 2.90190824, 2.89851383, 2.88678293]),\n",
              " 'test_time': (0.3035256862640381,\n",
              "  0.3144717216491699,\n",
              "  0.3042325973510742,\n",
              "  0.5273528099060059,\n",
              "  0.31767892837524414)}"
            ]
          },
          "execution_count": null,
          "metadata": {},
          "output_type": "execute_result"
        }
      ]
    }
  ]
}